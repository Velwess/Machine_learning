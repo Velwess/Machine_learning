{
 "cells": [
  {
   "cell_type": "markdown",
   "id": "ca6ed036",
   "metadata": {},
   "source": [
    "### Import"
   ]
  },
  {
   "cell_type": "code",
   "execution_count": 1,
   "id": "e5c0088e",
   "metadata": {},
   "outputs": [
    {
     "name": "stdout",
     "output_type": "stream",
     "text": [
      "Collecting keras\n",
      "  Downloading keras-2.11.0-py2.py3-none-any.whl (1.7 MB)\n",
      "Installing collected packages: keras\n",
      "Successfully installed keras-2.11.0\n",
      "Note: you may need to restart the kernel to use updated packages.\n"
     ]
    }
   ],
   "source": [
    "pip install keras"
   ]
  },
  {
   "cell_type": "code",
   "execution_count": 2,
   "id": "41dc6a24",
   "metadata": {},
   "outputs": [
    {
     "name": "stdout",
     "output_type": "stream",
     "text": [
      "Collecting tensorflow\n",
      "  Downloading tensorflow-2.11.0-cp39-cp39-win_amd64.whl (1.9 kB)\n",
      "Collecting tensorflow-intel==2.11.0\n",
      "  Downloading tensorflow_intel-2.11.0-cp39-cp39-win_amd64.whl (266.3 MB)\n",
      "Collecting tensorflow-io-gcs-filesystem>=0.23.1\n",
      "  Downloading tensorflow_io_gcs_filesystem-0.29.0-cp39-cp39-win_amd64.whl (1.5 MB)\n",
      "Collecting libclang>=13.0.0\n",
      "  Downloading libclang-15.0.6.1-py2.py3-none-win_amd64.whl (23.2 MB)\n",
      "Requirement already satisfied: setuptools in c:\\users\\velwessessomba\\anaconda3\\lib\\site-packages (from tensorflow-intel==2.11.0->tensorflow) (61.2.0)\n",
      "Collecting tensorboard<2.12,>=2.11\n",
      "  Downloading tensorboard-2.11.2-py3-none-any.whl (6.0 MB)\n",
      "Collecting astunparse>=1.6.0\n",
      "  Downloading astunparse-1.6.3-py2.py3-none-any.whl (12 kB)\n",
      "Collecting google-pasta>=0.1.1\n",
      "  Downloading google_pasta-0.2.0-py3-none-any.whl (57 kB)\n",
      "Requirement already satisfied: numpy>=1.20 in c:\\users\\velwessessomba\\anaconda3\\lib\\site-packages (from tensorflow-intel==2.11.0->tensorflow) (1.21.5)\n",
      "Requirement already satisfied: typing-extensions>=3.6.6 in c:\\users\\velwessessomba\\anaconda3\\lib\\site-packages (from tensorflow-intel==2.11.0->tensorflow) (4.1.1)\n",
      "Requirement already satisfied: h5py>=2.9.0 in c:\\users\\velwessessomba\\anaconda3\\lib\\site-packages (from tensorflow-intel==2.11.0->tensorflow) (3.6.0)\n",
      "Collecting tensorflow-estimator<2.12,>=2.11.0\n",
      "  Downloading tensorflow_estimator-2.11.0-py2.py3-none-any.whl (439 kB)\n",
      "Collecting absl-py>=1.0.0\n",
      "  Downloading absl_py-1.4.0-py3-none-any.whl (126 kB)\n",
      "Requirement already satisfied: protobuf<3.20,>=3.9.2 in c:\\users\\velwessessomba\\anaconda3\\lib\\site-packages (from tensorflow-intel==2.11.0->tensorflow) (3.19.1)\n",
      "Requirement already satisfied: grpcio<2.0,>=1.24.3 in c:\\users\\velwessessomba\\anaconda3\\lib\\site-packages (from tensorflow-intel==2.11.0->tensorflow) (1.42.0)\n",
      "Requirement already satisfied: six>=1.12.0 in c:\\users\\velwessessomba\\anaconda3\\lib\\site-packages (from tensorflow-intel==2.11.0->tensorflow) (1.16.0)\n",
      "Requirement already satisfied: packaging in c:\\users\\velwessessomba\\anaconda3\\lib\\site-packages (from tensorflow-intel==2.11.0->tensorflow) (21.3)\n",
      "Collecting flatbuffers>=2.0\n",
      "  Downloading flatbuffers-23.1.4-py2.py3-none-any.whl (26 kB)\n",
      "Collecting gast<=0.4.0,>=0.2.1\n",
      "  Downloading gast-0.4.0-py3-none-any.whl (9.8 kB)\n",
      "Collecting termcolor>=1.1.0\n",
      "  Downloading termcolor-2.2.0-py3-none-any.whl (6.6 kB)\n",
      "Requirement already satisfied: wrapt>=1.11.0 in c:\\users\\velwessessomba\\anaconda3\\lib\\site-packages (from tensorflow-intel==2.11.0->tensorflow) (1.12.1)\n",
      "Requirement already satisfied: keras<2.12,>=2.11.0 in c:\\users\\velwessessomba\\anaconda3\\lib\\site-packages (from tensorflow-intel==2.11.0->tensorflow) (2.11.0)\n",
      "Collecting opt-einsum>=2.3.2\n",
      "  Downloading opt_einsum-3.3.0-py3-none-any.whl (65 kB)\n",
      "Requirement already satisfied: wheel<1.0,>=0.23.0 in c:\\users\\velwessessomba\\anaconda3\\lib\\site-packages (from astunparse>=1.6.0->tensorflow-intel==2.11.0->tensorflow) (0.37.1)\n",
      "Collecting google-auth-oauthlib<0.5,>=0.4.1\n",
      "  Downloading google_auth_oauthlib-0.4.6-py2.py3-none-any.whl (18 kB)\n",
      "Requirement already satisfied: werkzeug>=1.0.1 in c:\\users\\velwessessomba\\anaconda3\\lib\\site-packages (from tensorboard<2.12,>=2.11->tensorflow-intel==2.11.0->tensorflow) (2.0.3)\n",
      "Requirement already satisfied: markdown>=2.6.8 in c:\\users\\velwessessomba\\anaconda3\\lib\\site-packages (from tensorboard<2.12,>=2.11->tensorflow-intel==2.11.0->tensorflow) (3.3.4)\n",
      "Requirement already satisfied: google-auth<3,>=1.6.3 in c:\\users\\velwessessomba\\anaconda3\\lib\\site-packages (from tensorboard<2.12,>=2.11->tensorflow-intel==2.11.0->tensorflow) (1.33.0)\n",
      "Collecting tensorboard-plugin-wit>=1.6.0\n",
      "  Downloading tensorboard_plugin_wit-1.8.1-py3-none-any.whl (781 kB)\n",
      "Requirement already satisfied: requests<3,>=2.21.0 in c:\\users\\velwessessomba\\anaconda3\\lib\\site-packages (from tensorboard<2.12,>=2.11->tensorflow-intel==2.11.0->tensorflow) (2.27.1)\n",
      "Collecting tensorboard-data-server<0.7.0,>=0.6.0\n",
      "  Downloading tensorboard_data_server-0.6.1-py3-none-any.whl (2.4 kB)\n",
      "Requirement already satisfied: cachetools<5.0,>=2.0.0 in c:\\users\\velwessessomba\\anaconda3\\lib\\site-packages (from google-auth<3,>=1.6.3->tensorboard<2.12,>=2.11->tensorflow-intel==2.11.0->tensorflow) (4.2.2)\n",
      "Requirement already satisfied: rsa<5,>=3.1.4 in c:\\users\\velwessessomba\\anaconda3\\lib\\site-packages (from google-auth<3,>=1.6.3->tensorboard<2.12,>=2.11->tensorflow-intel==2.11.0->tensorflow) (4.7.2)\n",
      "Requirement already satisfied: pyasn1-modules>=0.2.1 in c:\\users\\velwessessomba\\anaconda3\\lib\\site-packages (from google-auth<3,>=1.6.3->tensorboard<2.12,>=2.11->tensorflow-intel==2.11.0->tensorflow) (0.2.8)\n",
      "Collecting requests-oauthlib>=0.7.0\n",
      "  Downloading requests_oauthlib-1.3.1-py2.py3-none-any.whl (23 kB)\n",
      "Requirement already satisfied: pyasn1<0.5.0,>=0.4.6 in c:\\users\\velwessessomba\\anaconda3\\lib\\site-packages (from pyasn1-modules>=0.2.1->google-auth<3,>=1.6.3->tensorboard<2.12,>=2.11->tensorflow-intel==2.11.0->tensorflow) (0.4.8)\n",
      "Requirement already satisfied: charset-normalizer~=2.0.0 in c:\\users\\velwessessomba\\anaconda3\\lib\\site-packages (from requests<3,>=2.21.0->tensorboard<2.12,>=2.11->tensorflow-intel==2.11.0->tensorflow) (2.0.4)\n",
      "Requirement already satisfied: certifi>=2017.4.17 in c:\\users\\velwessessomba\\anaconda3\\lib\\site-packages (from requests<3,>=2.21.0->tensorboard<2.12,>=2.11->tensorflow-intel==2.11.0->tensorflow) (2021.10.8)\n",
      "Requirement already satisfied: idna<4,>=2.5 in c:\\users\\velwessessomba\\anaconda3\\lib\\site-packages (from requests<3,>=2.21.0->tensorboard<2.12,>=2.11->tensorflow-intel==2.11.0->tensorflow) (3.3)\n",
      "Requirement already satisfied: urllib3<1.27,>=1.21.1 in c:\\users\\velwessessomba\\anaconda3\\lib\\site-packages (from requests<3,>=2.21.0->tensorboard<2.12,>=2.11->tensorflow-intel==2.11.0->tensorflow) (1.26.9)\n",
      "Collecting oauthlib>=3.0.0\n",
      "  Downloading oauthlib-3.2.2-py3-none-any.whl (151 kB)\n",
      "Requirement already satisfied: pyparsing!=3.0.5,>=2.0.2 in c:\\users\\velwessessomba\\anaconda3\\lib\\site-packages (from packaging->tensorflow-intel==2.11.0->tensorflow) (3.0.4)\n",
      "Installing collected packages: oauthlib, requests-oauthlib, tensorboard-plugin-wit, tensorboard-data-server, google-auth-oauthlib, absl-py, termcolor, tensorflow-io-gcs-filesystem, tensorflow-estimator, tensorboard, opt-einsum, libclang, google-pasta, gast, flatbuffers, astunparse, tensorflow-intel, tensorflow\n",
      "Successfully installed absl-py-1.4.0 astunparse-1.6.3 flatbuffers-23.1.4 gast-0.4.0 google-auth-oauthlib-0.4.6 google-pasta-0.2.0 libclang-15.0.6.1 oauthlib-3.2.2 opt-einsum-3.3.0 requests-oauthlib-1.3.1 tensorboard-2.11.2 tensorboard-data-server-0.6.1 tensorboard-plugin-wit-1.8.1 tensorflow-2.11.0 tensorflow-estimator-2.11.0 tensorflow-intel-2.11.0 tensorflow-io-gcs-filesystem-0.29.0 termcolor-2.2.0\n",
      "Note: you may need to restart the kernel to use updated packages.\n"
     ]
    }
   ],
   "source": [
    "pip install tensorflow"
   ]
  },
  {
   "cell_type": "code",
   "execution_count": 43,
   "id": "019791ac",
   "metadata": {},
   "outputs": [
    {
     "name": "stdout",
     "output_type": "stream",
     "text": [
      "Requirement already satisfied: PrettyTable in c:\\users\\velwessessomba\\anaconda3\\lib\\site-packages (3.6.0)\n",
      "Requirement already satisfied: wcwidth in c:\\users\\velwessessomba\\anaconda3\\lib\\site-packages (from PrettyTable) (0.2.5)\n",
      "Note: you may need to restart the kernel to use updated packages.\n"
     ]
    }
   ],
   "source": [
    "pip install PrettyTable"
   ]
  },
  {
   "cell_type": "code",
   "execution_count": 2,
   "id": "6d27decd",
   "metadata": {},
   "outputs": [],
   "source": [
    "import pandas as pd\n",
    "import numpy as np\n",
    "import matplotlib.pyplot as plt\n",
    "from sklearn.preprocessing import MinMaxScaler\n",
    "import math as math\n",
    "from keras.models import Sequential\n",
    "from keras.layers import Dense\n",
    "from keras.layers import LSTM, GRU\n",
    "from keras.layers import Dropout\n",
    "from keras.layers import *\n",
    "from sklearn.metrics import mean_squared_error\n",
    "from sklearn.metrics import mean_absolute_error\n",
    "from sklearn.model_selection import train_test_split\n",
    "from keras.callbacks import EarlyStopping\n",
    "from sklearn.metrics import r2_score\n",
    "from sklearn.ensemble import AdaBoostRegressor, RandomForestRegressor, GradientBoostingRegressor\n",
    "from joblib import parallel_backend\n",
    "\n",
    "from time import time\n",
    "from tensorflow.keras.callbacks import TensorBoard\n",
    "import warnings\n",
    "warnings.filterwarnings('ignore')"
   ]
  },
  {
   "cell_type": "code",
   "execution_count": 3,
   "id": "516fde1a",
   "metadata": {},
   "outputs": [],
   "source": [
    "from datetime import datetime"
   ]
  },
  {
   "cell_type": "code",
   "execution_count": 4,
   "id": "b6903296",
   "metadata": {},
   "outputs": [],
   "source": [
    "import prettytable"
   ]
  },
  {
   "cell_type": "markdown",
   "id": "21cef353",
   "metadata": {},
   "source": [
    "### chargement des données"
   ]
  },
  {
   "cell_type": "code",
   "execution_count": null,
   "id": "a5e8c7ad",
   "metadata": {},
   "outputs": [],
   "source": [
    "VIX = pd.read_fwf('VIX.txt', names=['Year', 'Clos'])"
   ]
  },
  {
   "cell_type": "code",
   "execution_count": 36,
   "id": "679be234",
   "metadata": {},
   "outputs": [],
   "source": [
    "SPX = pd.read_fwf('SPX.txt', names=['Date', 'value'])"
   ]
  },
  {
   "cell_type": "code",
   "execution_count": 37,
   "id": "1cbc7a51",
   "metadata": {
    "scrolled": false
   },
   "outputs": [
    {
     "data": {
      "text/html": [
       "<div>\n",
       "<style scoped>\n",
       "    .dataframe tbody tr th:only-of-type {\n",
       "        vertical-align: middle;\n",
       "    }\n",
       "\n",
       "    .dataframe tbody tr th {\n",
       "        vertical-align: top;\n",
       "    }\n",
       "\n",
       "    .dataframe thead th {\n",
       "        text-align: right;\n",
       "    }\n",
       "</style>\n",
       "<table border=\"1\" class=\"dataframe\">\n",
       "  <thead>\n",
       "    <tr style=\"text-align: right;\">\n",
       "      <th></th>\n",
       "      <th>Date</th>\n",
       "      <th>value</th>\n",
       "    </tr>\n",
       "  </thead>\n",
       "  <tbody>\n",
       "    <tr>\n",
       "      <th>0</th>\n",
       "      <td>06/01/1995</td>\n",
       "      <td>460,68</td>\n",
       "    </tr>\n",
       "    <tr>\n",
       "      <th>1</th>\n",
       "      <td>13/01/1995</td>\n",
       "      <td>465,97</td>\n",
       "    </tr>\n",
       "    <tr>\n",
       "      <th>2</th>\n",
       "      <td>20/01/1995</td>\n",
       "      <td>464,78</td>\n",
       "    </tr>\n",
       "    <tr>\n",
       "      <th>3</th>\n",
       "      <td>27/01/1995</td>\n",
       "      <td>470,39</td>\n",
       "    </tr>\n",
       "    <tr>\n",
       "      <th>4</th>\n",
       "      <td>03/02/1995</td>\n",
       "      <td>478,64</td>\n",
       "    </tr>\n",
       "  </tbody>\n",
       "</table>\n",
       "</div>"
      ],
      "text/plain": [
       "         Date   value\n",
       "0  06/01/1995  460,68\n",
       "1  13/01/1995  465,97\n",
       "2  20/01/1995  464,78\n",
       "3  27/01/1995  470,39\n",
       "4  03/02/1995  478,64"
      ]
     },
     "execution_count": 37,
     "metadata": {},
     "output_type": "execute_result"
    }
   ],
   "source": [
    "SPX.head()"
   ]
  },
  {
   "cell_type": "code",
   "execution_count": 38,
   "id": "a0dcb246",
   "metadata": {},
   "outputs": [],
   "source": [
    "SPX['value'] = SPX['value'].apply(lambda x: x.replace(',', '.'))"
   ]
  },
  {
   "cell_type": "code",
   "execution_count": 39,
   "id": "77e0a639",
   "metadata": {},
   "outputs": [],
   "source": [
    "SPX['value']= SPX['value'].astype(float)"
   ]
  },
  {
   "cell_type": "markdown",
   "id": "ab28ef36",
   "metadata": {},
   "source": [
    "## Préparation des données"
   ]
  },
  {
   "cell_type": "markdown",
   "id": "32b4c746",
   "metadata": {},
   "source": [
    "> Using onlye the Clos column"
   ]
  },
  {
   "cell_type": "code",
   "execution_count": 40,
   "id": "02f0e5d2",
   "metadata": {},
   "outputs": [],
   "source": [
    "SPX['Date'] = pd.to_datetime(SPX['Date'])"
   ]
  },
  {
   "cell_type": "code",
   "execution_count": 41,
   "id": "a0a94163",
   "metadata": {},
   "outputs": [],
   "source": [
    "date_test = datetime(2012, 1, 1)"
   ]
  },
  {
   "cell_type": "code",
   "execution_count": 42,
   "id": "90f4c45e",
   "metadata": {},
   "outputs": [],
   "source": [
    "scaler = MinMaxScaler(feature_range=(0,1))"
   ]
  },
  {
   "cell_type": "code",
   "execution_count": 43,
   "id": "d11db72c",
   "metadata": {},
   "outputs": [
    {
     "data": {
      "text/plain": [
       "array([[0.        ],\n",
       "       [0.00206228],\n",
       "       [0.00159837],\n",
       "       ...,\n",
       "       [0.98682323],\n",
       "       [0.97501092],\n",
       "       [0.97122942]])"
      ]
     },
     "execution_count": 43,
     "metadata": {},
     "output_type": "execute_result"
    }
   ],
   "source": [
    "X = np.array(SPX['value'])\n",
    "X = X.reshape((len(SPX), 1))\n",
    "\n",
    "training_data_len = math.ceil(len(X)* 0.70)\n",
    "training_data_len\n",
    "\n",
    "\n",
    "sc = MinMaxScaler(feature_range=(0,1))\n",
    "training_data = sc.fit_transform(X)\n",
    "training_data"
   ]
  },
  {
   "cell_type": "code",
   "execution_count": 44,
   "id": "684cb867",
   "metadata": {},
   "outputs": [],
   "source": [
    "train = SPX[SPX['Date']<date_test]"
   ]
  },
  {
   "cell_type": "code",
   "execution_count": 45,
   "id": "6e879985",
   "metadata": {},
   "outputs": [],
   "source": [
    "train = np.array(train['value'])\n",
    "\n",
    "train = train.reshape((len(train), 1))"
   ]
  },
  {
   "cell_type": "code",
   "execution_count": 46,
   "id": "4008fa9e",
   "metadata": {},
   "outputs": [],
   "source": [
    "train = scaler.fit_transform(train)"
   ]
  },
  {
   "cell_type": "code",
   "execution_count": 47,
   "id": "4cc1caec",
   "metadata": {},
   "outputs": [],
   "source": [
    "len_tab = len(train)\n",
    "\n",
    "x_train = []\n",
    "y_train = []\n",
    "train_data = training_data[0:len_tab  , : ]\n",
    "len_tab = len(train_data)\n",
    "\n",
    "\n",
    "for x in range(90, len_tab):\n",
    "    x_train.append(train_data[x-90:x, 0])\n",
    "    y_train.append(train_data[x, 0])\n",
    "\n",
    "x_train, y_train = np.array(x_train), np.array(y_train)\n",
    "x_train = np.reshape(x_train, (x_train.shape[0], x_train.shape[1], 1))"
   ]
  },
  {
   "cell_type": "code",
   "execution_count": 48,
   "id": "15f64b84",
   "metadata": {},
   "outputs": [
    {
     "data": {
      "text/plain": [
       "(797, 90, 1)"
      ]
     },
     "execution_count": 48,
     "metadata": {},
     "output_type": "execute_result"
    }
   ],
   "source": [
    "x_train.shape"
   ]
  },
  {
   "cell_type": "markdown",
   "id": "4dbdeda7",
   "metadata": {},
   "source": [
    ">"
   ]
  },
  {
   "cell_type": "code",
   "execution_count": 49,
   "id": "26e51117",
   "metadata": {},
   "outputs": [
    {
     "name": "stdout",
     "output_type": "stream",
     "text": [
      "Number of rows and columns:  (405, 90, 1)\n"
     ]
    }
   ],
   "source": [
    "test_data = training_data[len(train_data) - 90: , : ]\n",
    "\n",
    "x_test = []\n",
    "y_test =  X[len(train_data) : , : ]\n",
    "for i in range(90,len(test_data)):\n",
    "    x_test.append(test_data[i-90:i,0])\n",
    "\n",
    "x_test = np.array(x_test)\n",
    "\n",
    "x_test = np.reshape(x_test, (x_test.shape[0],x_test.shape[1],1))\n",
    "print('Number of rows and columns: ', x_test.shape)\n"
   ]
  },
  {
   "cell_type": "code",
   "execution_count": 56,
   "id": "d2ee66ea",
   "metadata": {},
   "outputs": [
    {
     "data": {
      "text/plain": [
       "(405, 1)"
      ]
     },
     "execution_count": 56,
     "metadata": {},
     "output_type": "execute_result"
    }
   ],
   "source": [
    "y_test.shape"
   ]
  },
  {
   "cell_type": "markdown",
   "id": "ea745d36",
   "metadata": {},
   "source": [
    "## LSTM"
   ]
  },
  {
   "cell_type": "code",
   "execution_count": 57,
   "id": "ebf447fa",
   "metadata": {},
   "outputs": [],
   "source": [
    "model_LSTM = Sequential()"
   ]
  },
  {
   "cell_type": "code",
   "execution_count": 58,
   "id": "59a62dfc",
   "metadata": {},
   "outputs": [],
   "source": [
    "model_LSTM.add(LSTM(units=50, return_sequences=True, input_shape=(x_train.shape[1], 1)))\n",
    "model_LSTM.add(Dropout(0.2))"
   ]
  },
  {
   "cell_type": "code",
   "execution_count": 59,
   "id": "75db3fb0",
   "metadata": {},
   "outputs": [],
   "source": [
    "model_LSTM.add(LSTM(units = 50, return_sequences = True))\n",
    "model_LSTM.add(Dropout(0.2))\n",
    "\n",
    "model_LSTM.add(LSTM(units = 50, return_sequences = True))\n",
    "model_LSTM.add(Dropout(0.2))\n",
    "\n",
    "model_LSTM.add(LSTM(units = 50))\n",
    "#model.add(Dropout(0.3))\n",
    "\n",
    "model_LSTM.add(Dense(units = 1))\n",
    "\n",
    "model_LSTM.compile(optimizer = 'adam', loss = 'mean_squared_error')"
   ]
  },
  {
   "cell_type": "code",
   "execution_count": 60,
   "id": "aeef48c7",
   "metadata": {},
   "outputs": [
    {
     "name": "stdout",
     "output_type": "stream",
     "text": [
      "Epoch 1/100\n",
      "25/25 [==============================] - 21s 202ms/step - loss: 0.0090\n",
      "Epoch 2/100\n",
      "25/25 [==============================] - 5s 187ms/step - loss: 0.0020\n",
      "Epoch 3/100\n",
      "25/25 [==============================] - 5s 184ms/step - loss: 0.0015\n",
      "Epoch 4/100\n",
      "25/25 [==============================] - 4s 180ms/step - loss: 0.0013\n",
      "Epoch 5/100\n",
      "25/25 [==============================] - 5s 180ms/step - loss: 0.0013\n",
      "Epoch 6/100\n",
      "25/25 [==============================] - 5s 190ms/step - loss: 0.0013\n",
      "Epoch 7/100\n",
      "25/25 [==============================] - 5s 189ms/step - loss: 0.0011\n",
      "Epoch 8/100\n",
      "25/25 [==============================] - 4s 178ms/step - loss: 0.0011\n",
      "Epoch 9/100\n",
      "25/25 [==============================] - 5s 185ms/step - loss: 0.0011\n",
      "Epoch 10/100\n",
      "25/25 [==============================] - 5s 191ms/step - loss: 0.0010\n",
      "Epoch 11/100\n",
      "25/25 [==============================] - 5s 190ms/step - loss: 9.4111e-04\n",
      "Epoch 12/100\n",
      "25/25 [==============================] - 4s 180ms/step - loss: 9.2704e-04\n",
      "Epoch 13/100\n",
      "25/25 [==============================] - 5s 189ms/step - loss: 9.0270e-04\n",
      "Epoch 14/100\n",
      "25/25 [==============================] - 5s 191ms/step - loss: 8.5737e-04\n",
      "Epoch 15/100\n",
      "25/25 [==============================] - 4s 179ms/step - loss: 8.3883e-04\n",
      "Epoch 16/100\n",
      "25/25 [==============================] - 5s 188ms/step - loss: 8.0797e-04\n",
      "Epoch 17/100\n",
      "25/25 [==============================] - 5s 190ms/step - loss: 8.8114e-04\n",
      "Epoch 18/100\n",
      "25/25 [==============================] - 5s 187ms/step - loss: 7.6246e-04\n",
      "Epoch 19/100\n",
      "25/25 [==============================] - 5s 191ms/step - loss: 7.5743e-04\n",
      "Epoch 20/100\n",
      "25/25 [==============================] - 5s 195ms/step - loss: 7.7048e-04\n",
      "Epoch 21/100\n",
      "25/25 [==============================] - 5s 193ms/step - loss: 7.3439e-04\n",
      "Epoch 22/100\n",
      "25/25 [==============================] - 5s 186ms/step - loss: 7.0570e-04\n",
      "Epoch 23/100\n",
      "25/25 [==============================] - 5s 193ms/step - loss: 6.9941e-04\n",
      "Epoch 24/100\n",
      "25/25 [==============================] - 5s 193ms/step - loss: 6.9805e-04\n",
      "Epoch 25/100\n",
      "25/25 [==============================] - 5s 187ms/step - loss: 6.7051e-04\n",
      "Epoch 26/100\n",
      "25/25 [==============================] - 5s 195ms/step - loss: 6.6594e-04\n",
      "Epoch 27/100\n",
      "25/25 [==============================] - 5s 195ms/step - loss: 6.6315e-04\n",
      "Epoch 28/100\n",
      "25/25 [==============================] - 5s 193ms/step - loss: 6.5379e-04\n",
      "Epoch 29/100\n",
      "25/25 [==============================] - 5s 190ms/step - loss: 6.5532e-04\n",
      "Epoch 30/100\n",
      "25/25 [==============================] - 5s 196ms/step - loss: 6.2256e-04\n",
      "Epoch 31/100\n",
      "25/25 [==============================] - 5s 197ms/step - loss: 6.9982e-04\n",
      "Epoch 32/100\n",
      "25/25 [==============================] - 5s 188ms/step - loss: 6.0438e-04\n",
      "Epoch 33/100\n",
      "25/25 [==============================] - 5s 196ms/step - loss: 6.7202e-04\n",
      "Epoch 34/100\n",
      "25/25 [==============================] - 5s 196ms/step - loss: 5.9158e-04\n",
      "Epoch 35/100\n",
      "25/25 [==============================] - 5s 184ms/step - loss: 6.1188e-04\n",
      "Epoch 36/100\n",
      "25/25 [==============================] - 5s 196ms/step - loss: 6.1704e-04\n",
      "Epoch 37/100\n",
      "25/25 [==============================] - 5s 193ms/step - loss: 7.0064e-04\n",
      "Epoch 38/100\n",
      "25/25 [==============================] - 5s 183ms/step - loss: 5.9555e-04\n",
      "Epoch 39/100\n",
      "25/25 [==============================] - 4s 175ms/step - loss: 5.2893e-04\n",
      "Epoch 40/100\n",
      "25/25 [==============================] - 4s 179ms/step - loss: 5.2613e-04\n",
      "Epoch 41/100\n",
      "25/25 [==============================] - 5s 186ms/step - loss: 5.3065e-04\n",
      "Epoch 42/100\n",
      "25/25 [==============================] - 5s 181ms/step - loss: 5.2889e-04\n",
      "Epoch 43/100\n",
      "25/25 [==============================] - 5s 187ms/step - loss: 4.9798e-04\n",
      "Epoch 44/100\n",
      "25/25 [==============================] - 5s 191ms/step - loss: 4.6791e-04\n",
      "Epoch 45/100\n",
      "25/25 [==============================] - 5s 187ms/step - loss: 4.4165e-04\n",
      "Epoch 46/100\n",
      "25/25 [==============================] - 5s 187ms/step - loss: 4.9084e-04\n",
      "Epoch 47/100\n",
      "25/25 [==============================] - 5s 191ms/step - loss: 4.7558e-04\n",
      "Epoch 48/100\n",
      "25/25 [==============================] - 5s 191ms/step - loss: 4.8931e-04\n",
      "Epoch 49/100\n",
      "25/25 [==============================] - 5s 182ms/step - loss: 4.4919e-04\n",
      "Epoch 50/100\n",
      "25/25 [==============================] - 5s 190ms/step - loss: 4.3003e-04\n",
      "Epoch 51/100\n",
      "25/25 [==============================] - 5s 187ms/step - loss: 3.8699e-04\n",
      "Epoch 52/100\n",
      "25/25 [==============================] - 5s 181ms/step - loss: 5.0762e-04\n",
      "Epoch 53/100\n",
      "25/25 [==============================] - 5s 187ms/step - loss: 4.2143e-04\n",
      "Epoch 54/100\n",
      "25/25 [==============================] - 5s 190ms/step - loss: 3.9748e-04\n",
      "Epoch 55/100\n",
      "25/25 [==============================] - 5s 189ms/step - loss: 3.7498e-04\n",
      "Epoch 56/100\n",
      "25/25 [==============================] - 5s 181ms/step - loss: 4.3700e-04\n",
      "Epoch 57/100\n",
      "25/25 [==============================] - 5s 190ms/step - loss: 3.6697e-04\n",
      "Epoch 58/100\n",
      "25/25 [==============================] - 5s 190ms/step - loss: 4.1458e-04\n",
      "Epoch 59/100\n",
      "25/25 [==============================] - 5s 181ms/step - loss: 3.5312e-04\n",
      "Epoch 60/100\n",
      "25/25 [==============================] - 5s 190ms/step - loss: 3.9460e-04\n",
      "Epoch 61/100\n",
      "25/25 [==============================] - 5s 189ms/step - loss: 3.6357e-04\n",
      "Epoch 62/100\n",
      "25/25 [==============================] - 5s 189ms/step - loss: 3.4475e-04\n",
      "Epoch 63/100\n",
      "25/25 [==============================] - 4s 180ms/step - loss: 3.1125e-04\n",
      "Epoch 64/100\n",
      "25/25 [==============================] - 5s 191ms/step - loss: 3.2890e-04\n",
      "Epoch 65/100\n",
      "25/25 [==============================] - 5s 189ms/step - loss: 3.2437e-04\n",
      "Epoch 66/100\n",
      "25/25 [==============================] - 5s 181ms/step - loss: 3.2634e-04\n",
      "Epoch 67/100\n",
      "25/25 [==============================] - 5s 182ms/step - loss: 3.1741e-04\n",
      "Epoch 68/100\n",
      "25/25 [==============================] - 5s 184ms/step - loss: 3.2939e-04\n",
      "Epoch 69/100\n",
      "25/25 [==============================] - 5s 185ms/step - loss: 3.2854e-04\n",
      "Epoch 70/100\n",
      "25/25 [==============================] - 4s 180ms/step - loss: 2.9788e-04\n",
      "Epoch 71/100\n",
      "25/25 [==============================] - 5s 185ms/step - loss: 3.4171e-04\n",
      "Epoch 72/100\n",
      "25/25 [==============================] - 5s 190ms/step - loss: 3.2158e-04\n",
      "Epoch 73/100\n",
      "25/25 [==============================] - 4s 179ms/step - loss: 2.9983e-04\n",
      "Epoch 74/100\n",
      "25/25 [==============================] - 5s 189ms/step - loss: 2.8617e-04\n",
      "Epoch 75/100\n",
      "25/25 [==============================] - 5s 190ms/step - loss: 2.8668e-04\n",
      "Epoch 76/100\n",
      "25/25 [==============================] - 5s 181ms/step - loss: 2.8453e-04\n",
      "Epoch 77/100\n",
      "25/25 [==============================] - 5s 187ms/step - loss: 2.7284e-04\n",
      "Epoch 78/100\n",
      "25/25 [==============================] - 5s 189ms/step - loss: 2.7549e-04\n",
      "Epoch 79/100\n",
      "25/25 [==============================] - 5s 189ms/step - loss: 2.8081e-04\n",
      "Epoch 80/100\n",
      "25/25 [==============================] - 5s 182ms/step - loss: 2.6860e-04\n",
      "Epoch 81/100\n",
      "25/25 [==============================] - 5s 189ms/step - loss: 3.1045e-04\n",
      "Epoch 82/100\n",
      "25/25 [==============================] - 5s 189ms/step - loss: 2.7303e-04\n",
      "Epoch 83/100\n",
      "25/25 [==============================] - 4s 180ms/step - loss: 2.8774e-04\n",
      "Epoch 84/100\n",
      "25/25 [==============================] - 5s 190ms/step - loss: 2.7917e-04\n",
      "Epoch 85/100\n",
      "25/25 [==============================] - 5s 187ms/step - loss: 3.2934e-04\n",
      "Epoch 86/100\n",
      "25/25 [==============================] - 5s 189ms/step - loss: 2.7339e-04\n",
      "Epoch 87/100\n",
      "25/25 [==============================] - 4s 179ms/step - loss: 2.5032e-04\n",
      "Epoch 88/100\n",
      "25/25 [==============================] - 5s 191ms/step - loss: 2.4945e-04\n",
      "Epoch 89/100\n",
      "25/25 [==============================] - 5s 188ms/step - loss: 2.6272e-04\n",
      "Epoch 90/100\n",
      "25/25 [==============================] - 4s 178ms/step - loss: 2.4527e-04\n",
      "Epoch 91/100\n",
      "25/25 [==============================] - 5s 189ms/step - loss: 2.5236e-04\n",
      "Epoch 92/100\n",
      "25/25 [==============================] - 5s 188ms/step - loss: 2.7561e-04\n",
      "Epoch 93/100\n",
      "25/25 [==============================] - 5s 188ms/step - loss: 2.8564e-04\n",
      "Epoch 94/100\n",
      "25/25 [==============================] - 5s 183ms/step - loss: 2.4798e-04\n",
      "Epoch 95/100\n"
     ]
    },
    {
     "name": "stdout",
     "output_type": "stream",
     "text": [
      "25/25 [==============================] - 5s 188ms/step - loss: 2.8421e-04\n",
      "Epoch 96/100\n",
      "25/25 [==============================] - 5s 192ms/step - loss: 2.6106e-04\n",
      "Epoch 97/100\n",
      "25/25 [==============================] - 5s 182ms/step - loss: 2.2416e-04\n",
      "Epoch 98/100\n",
      "25/25 [==============================] - 5s 190ms/step - loss: 2.3984e-04\n",
      "Epoch 99/100\n",
      "25/25 [==============================] - 5s 188ms/step - loss: 2.7027e-04\n",
      "Epoch 100/100\n",
      "25/25 [==============================] - 5s 184ms/step - loss: 2.5408e-04\n"
     ]
    }
   ],
   "source": [
    "History = model_LSTM.fit(x_train, y_train, epochs = 100, batch_size = 32)"
   ]
  },
  {
   "cell_type": "code",
   "execution_count": 61,
   "id": "603a2a5a",
   "metadata": {},
   "outputs": [
    {
     "name": "stdout",
     "output_type": "stream",
     "text": [
      "13/13 [==============================] - 4s 66ms/step\n"
     ]
    }
   ],
   "source": [
    "lstm_predict = model_LSTM.predict(x_test)\n",
    "lstm_predict = scaler.inverse_transform(lstm_predict)"
   ]
  },
  {
   "cell_type": "code",
   "execution_count": 62,
   "id": "806a12e4",
   "metadata": {},
   "outputs": [
    {
     "name": "stdout",
     "output_type": "stream",
     "text": [
      "-3.588745968777488\n",
      "983.6450915376638\n",
      "1059591.9277473243\n"
     ]
    }
   ],
   "source": [
    "print(r2_score(y_test, lstm_predict))\n",
    "print(mean_absolute_error(y_test, lstm_predict))\n",
    "print(mean_squared_error(y_test, lstm_predict))"
   ]
  },
  {
   "cell_type": "markdown",
   "id": "f2745e4e",
   "metadata": {},
   "source": [
    "## CNN Model"
   ]
  },
  {
   "cell_type": "code",
   "execution_count": 63,
   "id": "454db523",
   "metadata": {},
   "outputs": [],
   "source": [
    "from keras.models import Sequential\n",
    "from keras.layers import Conv1D, MaxPooling1D, Flatten, Dense\n",
    "\n",
    "input_shape = (x_train.shape[1], 1)\n",
    "num_classes = 2\n",
    "\n",
    "cnn_model = Sequential()\n",
    "cnn_model.add(Conv1D(filters=64, kernel_size=3, activation='relu', input_shape=input_shape))\n",
    "cnn_model.add(MaxPooling1D(pool_size=2))\n",
    "cnn_model.add(LSTM(units=50, return_sequences=True))\n",
    "cnn_model.add(Dropout(0.2))\n",
    "cnn_model.add(Flatten())\n",
    "cnn_model.add(Dense(1, activation='relu'))"
   ]
  },
  {
   "cell_type": "code",
   "execution_count": 64,
   "id": "0a6d031a",
   "metadata": {},
   "outputs": [],
   "source": [
    "SPX['value']= SPX['value'].astype(float)\n"
   ]
  },
  {
   "cell_type": "code",
   "execution_count": 65,
   "id": "e91502a7",
   "metadata": {},
   "outputs": [
    {
     "name": "stdout",
     "output_type": "stream",
     "text": [
      "Epoch 1/100\n",
      "25/25 [==============================] - 8s 88ms/step - loss: 0.0094 - accuracy: 0.0000e+00 - val_loss: 4742310.0000 - val_accuracy: 0.0000e+00\n",
      "Epoch 2/100\n",
      "25/25 [==============================] - 1s 44ms/step - loss: 0.0031 - accuracy: 0.0000e+00 - val_loss: 4742658.0000 - val_accuracy: 0.0000e+00\n",
      "Epoch 3/100\n",
      "25/25 [==============================] - 1s 43ms/step - loss: 0.0019 - accuracy: 0.0000e+00 - val_loss: 4742466.0000 - val_accuracy: 0.0000e+00\n",
      "Epoch 4/100\n",
      "25/25 [==============================] - 1s 37ms/step - loss: 0.0017 - accuracy: 0.0000e+00 - val_loss: 4742554.0000 - val_accuracy: 0.0000e+00\n",
      "Epoch 5/100\n",
      "25/25 [==============================] - 1s 40ms/step - loss: 0.0015 - accuracy: 0.0000e+00 - val_loss: 4742476.0000 - val_accuracy: 0.0000e+00\n",
      "Epoch 6/100\n",
      "25/25 [==============================] - 1s 43ms/step - loss: 0.0013 - accuracy: 0.0000e+00 - val_loss: 4742449.0000 - val_accuracy: 0.0000e+00\n",
      "Epoch 7/100\n",
      "25/25 [==============================] - 1s 43ms/step - loss: 0.0014 - accuracy: 0.0000e+00 - val_loss: 4742595.5000 - val_accuracy: 0.0000e+00\n",
      "Epoch 8/100\n",
      "25/25 [==============================] - 1s 43ms/step - loss: 0.0012 - accuracy: 0.0000e+00 - val_loss: 4742482.5000 - val_accuracy: 0.0000e+00\n",
      "Epoch 9/100\n",
      "25/25 [==============================] - 1s 42ms/step - loss: 0.0011 - accuracy: 0.0000e+00 - val_loss: 4742413.5000 - val_accuracy: 0.0000e+00\n",
      "Epoch 10/100\n",
      "25/25 [==============================] - 1s 43ms/step - loss: 0.0011 - accuracy: 0.0000e+00 - val_loss: 4742548.0000 - val_accuracy: 0.0000e+00\n",
      "Epoch 11/100\n",
      "25/25 [==============================] - 1s 44ms/step - loss: 9.8717e-04 - accuracy: 0.0000e+00 - val_loss: 4742556.0000 - val_accuracy: 0.0000e+00\n",
      "Epoch 12/100\n",
      "25/25 [==============================] - 1s 44ms/step - loss: 0.0012 - accuracy: 0.0000e+00 - val_loss: 4742411.5000 - val_accuracy: 0.0000e+00\n",
      "Epoch 13/100\n",
      "25/25 [==============================] - 1s 43ms/step - loss: 9.4432e-04 - accuracy: 0.0000e+00 - val_loss: 4742444.5000 - val_accuracy: 0.0000e+00\n",
      "Epoch 14/100\n",
      "25/25 [==============================] - 1s 43ms/step - loss: 9.0625e-04 - accuracy: 0.0000e+00 - val_loss: 4742548.0000 - val_accuracy: 0.0000e+00\n",
      "Epoch 15/100\n",
      "25/25 [==============================] - 1s 43ms/step - loss: 8.4643e-04 - accuracy: 0.0000e+00 - val_loss: 4742489.0000 - val_accuracy: 0.0000e+00\n",
      "Epoch 16/100\n",
      "25/25 [==============================] - 1s 43ms/step - loss: 8.5602e-04 - accuracy: 0.0000e+00 - val_loss: 4742430.5000 - val_accuracy: 0.0000e+00\n",
      "Epoch 17/100\n",
      "25/25 [==============================] - 1s 43ms/step - loss: 7.7405e-04 - accuracy: 0.0000e+00 - val_loss: 4742349.0000 - val_accuracy: 0.0000e+00\n",
      "Epoch 18/100\n",
      "25/25 [==============================] - 1s 43ms/step - loss: 7.2749e-04 - accuracy: 0.0000e+00 - val_loss: 4742416.0000 - val_accuracy: 0.0000e+00\n",
      "Epoch 19/100\n",
      "25/25 [==============================] - 1s 38ms/step - loss: 8.1206e-04 - accuracy: 0.0000e+00 - val_loss: 4742359.5000 - val_accuracy: 0.0000e+00\n",
      "Epoch 20/100\n",
      "25/25 [==============================] - 1s 39ms/step - loss: 7.3640e-04 - accuracy: 0.0000e+00 - val_loss: 4742446.0000 - val_accuracy: 0.0000e+00\n",
      "Epoch 21/100\n",
      "25/25 [==============================] - 1s 42ms/step - loss: 7.6963e-04 - accuracy: 0.0000e+00 - val_loss: 4742445.0000 - val_accuracy: 0.0000e+00\n",
      "Epoch 22/100\n",
      "25/25 [==============================] - 1s 44ms/step - loss: 6.9959e-04 - accuracy: 0.0000e+00 - val_loss: 4742416.5000 - val_accuracy: 0.0000e+00\n",
      "Epoch 23/100\n",
      "25/25 [==============================] - 1s 44ms/step - loss: 6.4524e-04 - accuracy: 0.0000e+00 - val_loss: 4742305.0000 - val_accuracy: 0.0000e+00\n",
      "Epoch 24/100\n",
      "25/25 [==============================] - 1s 42ms/step - loss: 6.6815e-04 - accuracy: 0.0000e+00 - val_loss: 4742450.0000 - val_accuracy: 0.0000e+00\n",
      "Epoch 25/100\n",
      "25/25 [==============================] - 1s 41ms/step - loss: 7.1000e-04 - accuracy: 0.0000e+00 - val_loss: 4742227.0000 - val_accuracy: 0.0000e+00\n",
      "Epoch 26/100\n",
      "25/25 [==============================] - 1s 43ms/step - loss: 6.4555e-04 - accuracy: 0.0000e+00 - val_loss: 4742302.5000 - val_accuracy: 0.0000e+00\n",
      "Epoch 27/100\n",
      "25/25 [==============================] - 1s 42ms/step - loss: 6.0619e-04 - accuracy: 0.0000e+00 - val_loss: 4742320.5000 - val_accuracy: 0.0000e+00\n",
      "Epoch 28/100\n",
      "25/25 [==============================] - 1s 42ms/step - loss: 6.6401e-04 - accuracy: 0.0000e+00 - val_loss: 4742418.5000 - val_accuracy: 0.0000e+00\n",
      "Epoch 29/100\n",
      "25/25 [==============================] - 1s 43ms/step - loss: 6.4670e-04 - accuracy: 0.0000e+00 - val_loss: 4742420.0000 - val_accuracy: 0.0000e+00\n",
      "Epoch 30/100\n",
      "25/25 [==============================] - 1s 43ms/step - loss: 5.7620e-04 - accuracy: 0.0000e+00 - val_loss: 4742293.5000 - val_accuracy: 0.0000e+00\n",
      "Epoch 31/100\n",
      "25/25 [==============================] - 1s 41ms/step - loss: 5.7422e-04 - accuracy: 0.0000e+00 - val_loss: 4742222.5000 - val_accuracy: 0.0000e+00\n",
      "Epoch 32/100\n",
      "25/25 [==============================] - 1s 42ms/step - loss: 5.6165e-04 - accuracy: 0.0000e+00 - val_loss: 4742354.0000 - val_accuracy: 0.0000e+00\n",
      "Epoch 33/100\n",
      "25/25 [==============================] - 1s 43ms/step - loss: 5.7023e-04 - accuracy: 0.0000e+00 - val_loss: 4742248.0000 - val_accuracy: 0.0000e+00\n",
      "Epoch 34/100\n",
      "25/25 [==============================] - 1s 42ms/step - loss: 6.1328e-04 - accuracy: 0.0000e+00 - val_loss: 4742399.5000 - val_accuracy: 0.0000e+00\n",
      "Epoch 35/100\n",
      "25/25 [==============================] - 1s 44ms/step - loss: 5.3102e-04 - accuracy: 0.0000e+00 - val_loss: 4742340.0000 - val_accuracy: 0.0000e+00\n",
      "Epoch 36/100\n",
      "25/25 [==============================] - 1s 41ms/step - loss: 5.6316e-04 - accuracy: 0.0000e+00 - val_loss: 4742320.0000 - val_accuracy: 0.0000e+00\n",
      "Epoch 37/100\n",
      "25/25 [==============================] - 1s 42ms/step - loss: 5.0160e-04 - accuracy: 0.0000e+00 - val_loss: 4742313.5000 - val_accuracy: 0.0000e+00\n",
      "Epoch 38/100\n",
      "25/25 [==============================] - 1s 43ms/step - loss: 5.0122e-04 - accuracy: 0.0000e+00 - val_loss: 4742427.5000 - val_accuracy: 0.0000e+00\n",
      "Epoch 39/100\n",
      "25/25 [==============================] - 1s 43ms/step - loss: 4.9646e-04 - accuracy: 0.0000e+00 - val_loss: 4742399.0000 - val_accuracy: 0.0000e+00\n",
      "Epoch 40/100\n",
      "25/25 [==============================] - 1s 43ms/step - loss: 4.8589e-04 - accuracy: 0.0000e+00 - val_loss: 4742266.0000 - val_accuracy: 0.0000e+00\n",
      "Epoch 41/100\n",
      "25/25 [==============================] - 1s 42ms/step - loss: 4.9866e-04 - accuracy: 0.0000e+00 - val_loss: 4742260.0000 - val_accuracy: 0.0000e+00\n",
      "Epoch 42/100\n",
      "25/25 [==============================] - 1s 43ms/step - loss: 4.8236e-04 - accuracy: 0.0000e+00 - val_loss: 4742291.0000 - val_accuracy: 0.0000e+00\n",
      "Epoch 43/100\n",
      "25/25 [==============================] - 1s 43ms/step - loss: 4.5013e-04 - accuracy: 0.0000e+00 - val_loss: 4742238.0000 - val_accuracy: 0.0000e+00\n",
      "Epoch 44/100\n",
      "25/25 [==============================] - 1s 42ms/step - loss: 4.4365e-04 - accuracy: 0.0000e+00 - val_loss: 4742318.0000 - val_accuracy: 0.0000e+00\n",
      "Epoch 45/100\n",
      "25/25 [==============================] - 1s 41ms/step - loss: 5.0078e-04 - accuracy: 0.0000e+00 - val_loss: 4742391.0000 - val_accuracy: 0.0000e+00\n",
      "Epoch 46/100\n",
      "25/25 [==============================] - 1s 42ms/step - loss: 5.0997e-04 - accuracy: 0.0000e+00 - val_loss: 4742097.5000 - val_accuracy: 0.0000e+00\n",
      "Epoch 47/100\n",
      "25/25 [==============================] - 1s 43ms/step - loss: 4.9863e-04 - accuracy: 0.0000e+00 - val_loss: 4742302.0000 - val_accuracy: 0.0000e+00\n",
      "Epoch 48/100\n",
      "25/25 [==============================] - 1s 43ms/step - loss: 4.4821e-04 - accuracy: 0.0000e+00 - val_loss: 4742256.0000 - val_accuracy: 0.0000e+00\n",
      "Epoch 49/100\n",
      "25/25 [==============================] - 1s 42ms/step - loss: 4.1392e-04 - accuracy: 0.0000e+00 - val_loss: 4742259.5000 - val_accuracy: 0.0000e+00\n",
      "Epoch 50/100\n",
      "25/25 [==============================] - 1s 37ms/step - loss: 4.7079e-04 - accuracy: 0.0000e+00 - val_loss: 4742259.5000 - val_accuracy: 0.0000e+00\n",
      "Epoch 51/100\n",
      "25/25 [==============================] - 1s 42ms/step - loss: 4.5912e-04 - accuracy: 0.0000e+00 - val_loss: 4742304.5000 - val_accuracy: 0.0000e+00\n",
      "Epoch 52/100\n"
     ]
    },
    {
     "name": "stdout",
     "output_type": "stream",
     "text": [
      "25/25 [==============================] - 1s 48ms/step - loss: 4.3730e-04 - accuracy: 0.0000e+00 - val_loss: 4742302.0000 - val_accuracy: 0.0000e+00\n",
      "Epoch 53/100\n",
      "25/25 [==============================] - 1s 40ms/step - loss: 4.0128e-04 - accuracy: 0.0000e+00 - val_loss: 4742243.5000 - val_accuracy: 0.0000e+00\n",
      "Epoch 54/100\n",
      "25/25 [==============================] - 1s 41ms/step - loss: 4.0124e-04 - accuracy: 0.0000e+00 - val_loss: 4742270.5000 - val_accuracy: 0.0000e+00\n",
      "Epoch 55/100\n",
      "25/25 [==============================] - 1s 41ms/step - loss: 4.2340e-04 - accuracy: 0.0000e+00 - val_loss: 4742299.0000 - val_accuracy: 0.0000e+00\n",
      "Epoch 56/100\n",
      "25/25 [==============================] - 1s 41ms/step - loss: 4.1568e-04 - accuracy: 0.0000e+00 - val_loss: 4742268.0000 - val_accuracy: 0.0000e+00\n",
      "Epoch 57/100\n",
      "25/25 [==============================] - 1s 43ms/step - loss: 4.2292e-04 - accuracy: 0.0000e+00 - val_loss: 4742197.0000 - val_accuracy: 0.0000e+00\n",
      "Epoch 58/100\n",
      "25/25 [==============================] - 1s 43ms/step - loss: 3.5465e-04 - accuracy: 0.0000e+00 - val_loss: 4742273.0000 - val_accuracy: 0.0000e+00\n",
      "Epoch 59/100\n",
      "25/25 [==============================] - 1s 44ms/step - loss: 3.7071e-04 - accuracy: 0.0000e+00 - val_loss: 4742202.0000 - val_accuracy: 0.0000e+00\n",
      "Epoch 60/100\n",
      "25/25 [==============================] - 1s 45ms/step - loss: 3.6273e-04 - accuracy: 0.0000e+00 - val_loss: 4742246.0000 - val_accuracy: 0.0000e+00\n",
      "Epoch 61/100\n",
      "25/25 [==============================] - 1s 44ms/step - loss: 3.6463e-04 - accuracy: 0.0000e+00 - val_loss: 4742199.0000 - val_accuracy: 0.0000e+00\n",
      "Epoch 62/100\n",
      "25/25 [==============================] - 1s 41ms/step - loss: 3.6360e-04 - accuracy: 0.0000e+00 - val_loss: 4742339.0000 - val_accuracy: 0.0000e+00\n",
      "Epoch 63/100\n",
      "25/25 [==============================] - 1s 42ms/step - loss: 3.3804e-04 - accuracy: 0.0000e+00 - val_loss: 4742313.0000 - val_accuracy: 0.0000e+00\n",
      "Epoch 64/100\n",
      "25/25 [==============================] - 1s 42ms/step - loss: 3.5468e-04 - accuracy: 0.0000e+00 - val_loss: 4742231.0000 - val_accuracy: 0.0000e+00\n",
      "Epoch 65/100\n",
      "25/25 [==============================] - 1s 38ms/step - loss: 3.2075e-04 - accuracy: 0.0000e+00 - val_loss: 4742267.0000 - val_accuracy: 0.0000e+00\n",
      "Epoch 66/100\n",
      "25/25 [==============================] - 1s 45ms/step - loss: 3.3652e-04 - accuracy: 0.0000e+00 - val_loss: 4742257.0000 - val_accuracy: 0.0000e+00\n",
      "Epoch 67/100\n",
      "25/25 [==============================] - 1s 45ms/step - loss: 3.3229e-04 - accuracy: 0.0000e+00 - val_loss: 4742246.5000 - val_accuracy: 0.0000e+00\n",
      "Epoch 68/100\n",
      "25/25 [==============================] - 1s 45ms/step - loss: 3.3125e-04 - accuracy: 0.0000e+00 - val_loss: 4742283.0000 - val_accuracy: 0.0000e+00\n",
      "Epoch 69/100\n",
      "25/25 [==============================] - 1s 43ms/step - loss: 3.2118e-04 - accuracy: 0.0000e+00 - val_loss: 4742225.5000 - val_accuracy: 0.0000e+00\n",
      "Epoch 70/100\n",
      "25/25 [==============================] - 1s 44ms/step - loss: 3.2042e-04 - accuracy: 0.0000e+00 - val_loss: 4742287.0000 - val_accuracy: 0.0000e+00\n",
      "Epoch 71/100\n",
      "25/25 [==============================] - 1s 37ms/step - loss: 3.0500e-04 - accuracy: 0.0000e+00 - val_loss: 4742215.0000 - val_accuracy: 0.0000e+00\n",
      "Epoch 72/100\n",
      "25/25 [==============================] - 1s 41ms/step - loss: 3.0430e-04 - accuracy: 0.0000e+00 - val_loss: 4742256.5000 - val_accuracy: 0.0000e+00\n",
      "Epoch 73/100\n",
      "25/25 [==============================] - 1s 43ms/step - loss: 3.0159e-04 - accuracy: 0.0000e+00 - val_loss: 4742296.5000 - val_accuracy: 0.0000e+00\n",
      "Epoch 74/100\n",
      "25/25 [==============================] - 1s 43ms/step - loss: 2.9849e-04 - accuracy: 0.0000e+00 - val_loss: 4742301.5000 - val_accuracy: 0.0000e+00\n",
      "Epoch 75/100\n",
      "25/25 [==============================] - 1s 43ms/step - loss: 2.9472e-04 - accuracy: 0.0000e+00 - val_loss: 4742256.0000 - val_accuracy: 0.0000e+00\n",
      "Epoch 76/100\n",
      "25/25 [==============================] - 1s 47ms/step - loss: 2.9803e-04 - accuracy: 0.0000e+00 - val_loss: 4742220.0000 - val_accuracy: 0.0000e+00\n",
      "Epoch 77/100\n",
      "25/25 [==============================] - 1s 44ms/step - loss: 2.7965e-04 - accuracy: 0.0000e+00 - val_loss: 4742247.0000 - val_accuracy: 0.0000e+00\n",
      "Epoch 78/100\n",
      "25/25 [==============================] - 1s 43ms/step - loss: 2.8659e-04 - accuracy: 0.0000e+00 - val_loss: 4742191.5000 - val_accuracy: 0.0000e+00\n",
      "Epoch 79/100\n",
      "25/25 [==============================] - 1s 42ms/step - loss: 2.7483e-04 - accuracy: 0.0000e+00 - val_loss: 4742322.0000 - val_accuracy: 0.0000e+00\n",
      "Epoch 80/100\n",
      "25/25 [==============================] - 1s 38ms/step - loss: 2.7719e-04 - accuracy: 0.0000e+00 - val_loss: 4742235.0000 - val_accuracy: 0.0000e+00\n",
      "Epoch 81/100\n",
      "25/25 [==============================] - 1s 40ms/step - loss: 2.7376e-04 - accuracy: 0.0000e+00 - val_loss: 4742345.0000 - val_accuracy: 0.0000e+00\n",
      "Epoch 82/100\n",
      "25/25 [==============================] - 1s 43ms/step - loss: 2.6659e-04 - accuracy: 0.0000e+00 - val_loss: 4742269.5000 - val_accuracy: 0.0000e+00\n",
      "Epoch 83/100\n",
      "25/25 [==============================] - 1s 44ms/step - loss: 2.7387e-04 - accuracy: 0.0000e+00 - val_loss: 4742197.5000 - val_accuracy: 0.0000e+00\n",
      "Epoch 84/100\n",
      "25/25 [==============================] - 1s 43ms/step - loss: 3.0347e-04 - accuracy: 0.0000e+00 - val_loss: 4742307.5000 - val_accuracy: 0.0000e+00\n",
      "Epoch 85/100\n",
      "25/25 [==============================] - 1s 41ms/step - loss: 2.6566e-04 - accuracy: 0.0000e+00 - val_loss: 4742325.5000 - val_accuracy: 0.0000e+00\n",
      "Epoch 86/100\n",
      "25/25 [==============================] - 1s 44ms/step - loss: 2.6473e-04 - accuracy: 0.0000e+00 - val_loss: 4742383.0000 - val_accuracy: 0.0000e+00\n",
      "Epoch 87/100\n",
      "25/25 [==============================] - 1s 43ms/step - loss: 2.6091e-04 - accuracy: 0.0000e+00 - val_loss: 4742278.5000 - val_accuracy: 0.0000e+00\n",
      "Epoch 88/100\n",
      "25/25 [==============================] - 1s 43ms/step - loss: 2.7367e-04 - accuracy: 0.0000e+00 - val_loss: 4742335.0000 - val_accuracy: 0.0000e+00\n",
      "Epoch 89/100\n",
      "25/25 [==============================] - 1s 44ms/step - loss: 2.7004e-04 - accuracy: 0.0000e+00 - val_loss: 4742274.0000 - val_accuracy: 0.0000e+00\n",
      "Epoch 90/100\n",
      "25/25 [==============================] - 1s 44ms/step - loss: 2.6334e-04 - accuracy: 0.0000e+00 - val_loss: 4742220.0000 - val_accuracy: 0.0000e+00\n",
      "Epoch 91/100\n",
      "25/25 [==============================] - 1s 45ms/step - loss: 2.3954e-04 - accuracy: 0.0000e+00 - val_loss: 4742266.0000 - val_accuracy: 0.0000e+00\n",
      "Epoch 92/100\n",
      "25/25 [==============================] - 1s 44ms/step - loss: 2.5931e-04 - accuracy: 0.0000e+00 - val_loss: 4742271.0000 - val_accuracy: 0.0000e+00\n",
      "Epoch 93/100\n",
      "25/25 [==============================] - 1s 44ms/step - loss: 2.7849e-04 - accuracy: 0.0000e+00 - val_loss: 4742206.5000 - val_accuracy: 0.0000e+00\n",
      "Epoch 94/100\n",
      "25/25 [==============================] - 1s 42ms/step - loss: 2.2978e-04 - accuracy: 0.0000e+00 - val_loss: 4742292.0000 - val_accuracy: 0.0000e+00\n",
      "Epoch 95/100\n",
      "25/25 [==============================] - 1s 38ms/step - loss: 2.3055e-04 - accuracy: 0.0000e+00 - val_loss: 4742277.0000 - val_accuracy: 0.0000e+00\n",
      "Epoch 96/100\n",
      "25/25 [==============================] - 1s 42ms/step - loss: 3.1109e-04 - accuracy: 0.0000e+00 - val_loss: 4742133.5000 - val_accuracy: 0.0000e+00\n",
      "Epoch 97/100\n",
      "25/25 [==============================] - 1s 45ms/step - loss: 2.9627e-04 - accuracy: 0.0000e+00 - val_loss: 4742197.0000 - val_accuracy: 0.0000e+00\n",
      "Epoch 98/100\n",
      "25/25 [==============================] - 1s 45ms/step - loss: 2.2150e-04 - accuracy: 0.0000e+00 - val_loss: 4742242.5000 - val_accuracy: 0.0000e+00\n",
      "Epoch 99/100\n",
      "25/25 [==============================] - 1s 44ms/step - loss: 2.2790e-04 - accuracy: 0.0000e+00 - val_loss: 4742258.0000 - val_accuracy: 0.0000e+00\n",
      "Epoch 100/100\n",
      "25/25 [==============================] - 1s 45ms/step - loss: 2.4633e-04 - accuracy: 0.0000e+00 - val_loss: 4742190.0000 - val_accuracy: 0.0000e+00\n"
     ]
    },
    {
     "data": {
      "text/plain": [
       "<keras.callbacks.History at 0x1d8ebf9e5e0>"
      ]
     },
     "execution_count": 65,
     "metadata": {},
     "output_type": "execute_result"
    }
   ],
   "source": [
    "cnn_model.compile(optimizer='adam', loss='mean_squared_error', metrics=['accuracy'])\n",
    "cnn_model.fit(x_train, y_train, validation_data=(x_test, y_test), epochs=100, batch_size=32)"
   ]
  },
  {
   "cell_type": "code",
   "execution_count": 66,
   "id": "f50a103e",
   "metadata": {},
   "outputs": [
    {
     "data": {
      "text/plain": [
       "887"
      ]
     },
     "execution_count": 66,
     "metadata": {},
     "output_type": "execute_result"
    }
   ],
   "source": [
    "len(train)"
   ]
  },
  {
   "cell_type": "code",
   "execution_count": 67,
   "id": "e5fa4104",
   "metadata": {},
   "outputs": [
    {
     "name": "stdout",
     "output_type": "stream",
     "text": [
      "13/13 [==============================] - 1s 15ms/step\n"
     ]
    },
    {
     "data": {
      "text/plain": [
       "0.8464420242364413"
      ]
     },
     "execution_count": 67,
     "metadata": {},
     "output_type": "execute_result"
    }
   ],
   "source": [
    "cnn_predicted = cnn_model.predict(x_test)\n",
    "cnn_predicted = sc.inverse_transform(cnn_predicted)\n",
    "train = SPX[:887]\n",
    "valid = SPX[887:]\n",
    "valid['Predictions'] = cnn_predicted\n",
    "score = r2_score(y_test, cnn_predicted)\n",
    "score"
   ]
  },
  {
   "cell_type": "code",
   "execution_count": 68,
   "id": "bb4a4df9",
   "metadata": {
    "scrolled": true
   },
   "outputs": [
    {
     "data": {
      "image/png": "[encoded data removed]",
      "text/plain": [
       "<Figure size 1152x576 with 1 Axes>"
      ]
     },
     "metadata": {
      "needs_background": "light"
     },
     "output_type": "display_data"
    }
   ],
   "source": [
    "plt.figure(figsize=(16,8))\n",
    "plt.title('Model')\n",
    "plt.xlabel('Date', fontsize=8)\n",
    "plt.ylabel('SPX', fontsize=12)\n",
    "plt.plot(train['value'])\n",
    "plt.plot(valid[['value', 'Predictions']])\n",
    "plt.legend(['Train', 'Val', 'Predictions'], loc='lower right')\n",
    "plt.show()\n"
   ]
  },
  {
   "cell_type": "code",
   "execution_count": null,
   "id": "2bfee020",
   "metadata": {},
   "outputs": [],
   "source": []
  },
  {
   "cell_type": "markdown",
   "id": "02399192",
   "metadata": {},
   "source": [
    "## resultat"
   ]
  },
  {
   "cell_type": "code",
   "execution_count": 70,
   "id": "90e12da7",
   "metadata": {},
   "outputs": [
    {
     "ename": "NameError",
     "evalue": "name 'PrettyTable' is not defined",
     "output_type": "error",
     "traceback": [
      "\u001b[1;31m---------------------------------------------------------------------------\u001b[0m",
      "\u001b[1;31mNameError\u001b[0m                                 Traceback (most recent call last)",
      "Input \u001b[1;32mIn [70]\u001b[0m, in \u001b[0;36m<cell line: 1>\u001b[1;34m()\u001b[0m\n\u001b[1;32m----> 1\u001b[0m tab \u001b[38;5;241m=\u001b[39m \u001b[43mPrettyTable\u001b[49m([\u001b[38;5;124m\"\u001b[39m\u001b[38;5;124m\"\u001b[39m, \u001b[38;5;124m\"\u001b[39m\u001b[38;5;124mAccuracy\u001b[39m\u001b[38;5;124m\"\u001b[39m, \u001b[38;5;124m\"\u001b[39m\u001b[38;5;124mMSE\u001b[39m\u001b[38;5;124m\"\u001b[39m, \u001b[38;5;124m\"\u001b[39m\u001b[38;5;124mMAE\u001b[39m\u001b[38;5;124m\"\u001b[39m])\n\u001b[0;32m      3\u001b[0m tab\u001b[38;5;241m.\u001b[39madd_row([\u001b[38;5;124m\"\u001b[39m\u001b[38;5;124mLSTM\u001b[39m\u001b[38;5;124m\"\u001b[39m, \n\u001b[0;32m      4\u001b[0m            \u001b[38;5;28mstr\u001b[39m(\u001b[38;5;28mround\u001b[39m(r2_score(y_test, lstm_predict),\u001b[38;5;241m2\u001b[39m)), \n\u001b[0;32m      5\u001b[0m            \u001b[38;5;28mstr\u001b[39m(\u001b[38;5;28mround\u001b[39m(mean_squared_error(y_test, lstm_predict),\u001b[38;5;241m2\u001b[39m)), \n\u001b[0;32m      6\u001b[0m            \u001b[38;5;28mstr\u001b[39m(\u001b[38;5;28mround\u001b[39m(mean_absolute_error(y_test, lstm_predict),\u001b[38;5;241m2\u001b[39m)),\n\u001b[0;32m      7\u001b[0m           ]\n\u001b[0;32m      8\u001b[0m          )\n\u001b[0;32m     10\u001b[0m tab\u001b[38;5;241m.\u001b[39madd_row([\u001b[38;5;124m\"\u001b[39m\u001b[38;5;124mCNN\u001b[39m\u001b[38;5;124m\"\u001b[39m, \n\u001b[0;32m     11\u001b[0m            \u001b[38;5;28mstr\u001b[39m(\u001b[38;5;28mround\u001b[39m(r2_score(y_test, cnn_predicted),\u001b[38;5;241m2\u001b[39m)), \n\u001b[0;32m     12\u001b[0m            \u001b[38;5;28mstr\u001b[39m(\u001b[38;5;28mround\u001b[39m(mean_squared_error(y_test, cnn_predicted),\u001b[38;5;241m2\u001b[39m)), \n\u001b[0;32m     13\u001b[0m            \u001b[38;5;28mstr\u001b[39m(\u001b[38;5;28mround\u001b[39m(mean_absolute_error(y_test, cnn_predicted),\u001b[38;5;241m2\u001b[39m)),\n\u001b[0;32m     14\u001b[0m           ]\n\u001b[0;32m     15\u001b[0m          )\n",
      "\u001b[1;31mNameError\u001b[0m: name 'PrettyTable' is not defined"
     ]
    }
   ],
   "source": [
    "tab = PrettyTable([\"\", \"Accuracy\", \"MSE\", \"MAE\"])\n",
    "\n",
    "tab.add_row([\"LSTM\", \n",
    "           str(round(r2_score(y_test, lstm_predict),2)), \n",
    "           str(round(mean_squared_error(y_test, lstm_predict),2)), \n",
    "           str(round(mean_absolute_error(y_test, lstm_predict),2)),\n",
    "          ]\n",
    "         )\n",
    "           \n",
    "tab.add_row([\"CNN\", \n",
    "           str(round(r2_score(y_test, cnn_predicted),2)), \n",
    "           str(round(mean_squared_error(y_test, cnn_predicted),2)), \n",
    "           str(round(mean_absolute_error(y_test, cnn_predicted),2)),\n",
    "          ]\n",
    "         )\n",
    "print(tab)"
   ]
  },
  {
   "cell_type": "code",
   "execution_count": null,
   "id": "bcb1df80",
   "metadata": {},
   "outputs": [],
   "source": []
  }
 ],
 "metadata": {
  "kernelspec": {
   "display_name": "Python 3 (ipykernel)",
   "language": "python",
   "name": "python3"
  },
  "language_info": {
   "codemirror_mode": {
    "name": "ipython",
    "version": 3
   },
   "file_extension": ".py",
   "mimetype": "text/x-python",
   "name": "python",
   "nbconvert_exporter": "python",
   "pygments_lexer": "ipython3",
   "version": "3.9.12"
  }
 },
 "nbformat": 4,
 "nbformat_minor": 5
}
